{
 "cells": [
  {
   "cell_type": "code",
   "execution_count": 2,
   "id": "sealed-condition",
   "metadata": {},
   "outputs": [
    {
     "data": {
      "text/plain": [
       "[<matplotlib.lines.Line2D at 0xa115e358>]"
      ]
     },
     "execution_count": 2,
     "metadata": {},
     "output_type": "execute_result"
    }
   ],
   "source": [
    "import math\n",
    "\n",
    "import matplotlib.pyplot as plt\n",
    "\n",
    "figure, axes = plt.subplots()\n",
    "\n",
    "x_axis = []\n",
    "y_axis = []\n",
    "for i in range(0, 160):\n",
    "    x_axis.append(i)\n",
    "    v_F_y = math.sqrt(i/(4*(math.pi**2*(5*10**-9)*(5.06*10**-12))))\n",
    "    y_axis.append(v_F_y)\n",
    "axes.set_xlabel('tuning voltage  V')\n",
    "axes.set_ylabel('frequency  Hz')\n",
    "axes.set_title(\"frequency against turning voltage\")\n",
    "axes.plot(x_axis, y_axis)"
   ]
  },
  {
   "cell_type": "code",
   "execution_count": null,
   "id": "identified-nowhere",
   "metadata": {},
   "outputs": [],
   "source": []
  }
 ],
 "metadata": {
  "kernelspec": {
   "display_name": "Python 3",
   "language": "python",
   "name": "python3"
  },
  "language_info": {
   "codemirror_mode": {
    "name": "ipython",
    "version": 3
   },
   "file_extension": ".py",
   "mimetype": "text/x-python",
   "name": "python",
   "nbconvert_exporter": "python",
   "pygments_lexer": "ipython3",
   "version": "3.8.3"
  }
 },
 "nbformat": 4,
 "nbformat_minor": 5
}
